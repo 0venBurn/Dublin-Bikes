{
 "cells": [
  {
   "cell_type": "code",
   "execution_count": null,
   "metadata": {},
   "outputs": [],
   "source": [
    "import pickle\n",
    "\n",
    "import numpy as np\n",
    "import pandas as pd\n",
    "from tensorflow.keras.models import load_model\n",
    "\n",
    "model = load_model(\"ml/ml_model.h5\", custom_objects={})\n",
    "with open(\"preprocessor.pkl\", \"rb\") as f:\n",
    "    preprocessor = pickle.load(f)\n",
    "\n",
    "# Make a prediction.\n",
    "new_data = pd.DataFrame({\n",
    "    \"number\": [5],\n",
    "    \"Temperature\": [2],\n",
    "    \"WindSpeed\": [11.43],\n",
    "    \"year\": [2024],\n",
    "    \"month\": [4],\n",
    "    \"day\": [10],\n",
    "    \"hour\": [16],\n",
    "})\n",
    "\n",
    "new_data_processed = preprocessor.transform(new_data)\n",
    "prediction = model.predict(new_data_processed)\n",
    "rounded_prediction = np.round(prediction[0][0])\n",
    "\n",
    "print(int(rounded_prediction))"
   ]
  }
 ],
 "metadata": {
  "kernelspec": {
   "display_name": "flask_dev",
   "language": "python",
   "name": "python3"
  },
  "language_info": {
   "name": "python",
   "version": "3.11.7"
  }
 },
 "nbformat": 4,
 "nbformat_minor": 2
}
