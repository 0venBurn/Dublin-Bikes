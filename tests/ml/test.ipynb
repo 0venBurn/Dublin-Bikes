{
 "cells": [
  {
   "cell_type": "code",
   "execution_count": null,
   "metadata": {},
   "outputs": [],
   "source": [
    "from tensorflow.keras.models import load_model\n",
    "import pickle\n",
    "\n",
    "model = load_model(\"ml_model.h5\", custom_objects={})\n",
    "with open(\"preprocessor.pkl\", \"rb\") as f:\n",
    "    preprocessor = pickle.load(f)\n",
    "# Make a prediction\n",
    "import numpy as np\n",
    "\n",
    "new_data = pd.DataFrame({\n",
    "    \"number\": [5],\n",
    "    \"Temperature\": [2],\n",
    "    \"WindSpeed\": [11.43],\n",
    "    \"year\": [2024],\n",
    "    \"month\": [4],\n",
    "    \"day\": [10],\n",
    "    \"hour\": [16],\n",
    "})\n",
    "new_data_processed = preprocessor.transform(new_data)\n",
    "prediction = model.predict(new_data_processed)\n",
    "rounded_prediction = np.round(prediction[0][0])\n",
    "print(int(rounded_prediction))"
   ]
  }
 ],
 "metadata": {
  "language_info": {
   "name": "python"
  }
 },
 "nbformat": 4,
 "nbformat_minor": 2
}
